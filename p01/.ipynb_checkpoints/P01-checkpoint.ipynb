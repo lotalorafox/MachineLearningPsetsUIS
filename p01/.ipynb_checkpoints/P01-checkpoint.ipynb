{
 "cells": [
  {
   "cell_type": "markdown",
   "metadata": {},
   "source": [
    "# Problem Set 01\n",
    "We import numpy as the only library to use"
   ]
  },
  {
   "cell_type": "code",
   "execution_count": null,
   "metadata": {},
   "outputs": [],
   "source": [
    "import numpy as np"
   ]
  },
  {
   "cell_type": "markdown",
   "metadata": {},
   "source": [
    "## Exercise 1, create a matrix with a single value\n",
    "Create a matrix with a single value with n rows x m columns.\n",
    "We remember the function present on numpy for create a matrix of zeros \n",
    "```python\n",
    "np.zeros((rows,columns))\n",
    "```\n",
    "<p>for more information [click here](https://docs.scipy.org/doc/numpy-1.14.0/reference/generated/numpy.zeros.html)  </p>\n",
    "and use a simple sum of a scalar to a matrix."
   ]
  },
  {
   "cell_type": "code",
   "execution_count": null,
   "metadata": {},
   "outputs": [],
   "source": [
    "def single_value_matrix(n_rows, n_cols, value):\n",
    "    return np.zeros((n_rows, n_cols))+value"
   ]
  },
  {
   "cell_type": "markdown",
   "metadata": {},
   "source": [
    "Now we prove the previous function."
   ]
  },
  {
   "cell_type": "code",
   "execution_count": null,
   "metadata": {},
   "outputs": [],
   "source": [
    "print (single_value_matrix(n_rows=3, n_cols=4, value=5))\n",
    "print (single_value_matrix(n_rows=4, n_cols=2, value=3.45))"
   ]
  },
  {
   "cell_type": "markdown",
   "metadata": {},
   "source": [
    "## Exercise 2, Sum of square differences of matrices\n",
    "Now we want create of function to do the sum of square differences of matrices, defined by:\n",
    "$$sum\\_squared\\_difference(A,B) = \\sum_{i=0}^m \\sum_{j=0}^n (a_{ij} - b_{ij})^2$$"
   ]
  },
  {
   "cell_type": "markdown",
   "metadata": {},
   "source": [
    "For this task we use the sum function of numpy for sum the elements of a array, for more info [click here](https://docs.scipy.org/doc/numpy-1.14.0/reference/generated/numpy.sum.html).\n",
    "```python\n",
    "np.sum([0.5, 1.5])\n",
    "```"
   ]
  },
  {
   "cell_type": "code",
   "execution_count": null,
   "metadata": {},
   "outputs": [],
   "source": [
    "def sum_squared_difference(a, b):\n",
    "    return np.sum((a-b)**2)"
   ]
  },
  {
   "cell_type": "markdown",
   "metadata": {},
   "source": [
    "We prove the solution"
   ]
  },
  {
   "cell_type": "code",
   "execution_count": null,
   "metadata": {},
   "outputs": [],
   "source": [
    "A = np.array([[1,2],[3,4]])\n",
    "B = np.array([[0,3],[4,6]])\n",
    "print (sum_squared_difference(A,B))"
   ]
  },
  {
   "cell_type": "markdown",
   "metadata": {},
   "source": [
    "## Exercise 3 Select the elements higher than a scalar\n",
    "Create a function to return the elements of a vector greater than a scalar.\n",
    "We use the method of numpy for this task\n",
    "```python\n",
    "vector[vector>escalar]\n",
    "```\n",
    "And create the function"
   ]
  },
  {
   "cell_type": "code",
   "execution_count": null,
   "metadata": {},
   "outputs": [],
   "source": [
    "def higher_selection(v, e):\n",
    "    return v[v>e]"
   ]
  },
  {
   "cell_type": "markdown",
   "metadata": {},
   "source": [
    "And use the solution"
   ]
  },
  {
   "cell_type": "code",
   "execution_count": null,
   "metadata": {},
   "outputs": [],
   "source": [
    "v1 = np.array([-4,5,-1,2,3,10,-2])\n",
    "print (higher_selection(v1, 0))\n",
    "print (higher_selection(v1,-2))\n",
    "print (higher_selection(v1,12))"
   ]
  },
  {
   "cell_type": "markdown",
   "metadata": {},
   "source": [
    "## Exercise 4 Averages and standard deviations\n",
    "Create a function to show\n",
    "* the tuple of the averages and the standard deviation by 'rows' or 'columns' according to the option.\n",
    "* return the tuple \n",
    "```python \n",
    "[None, None] \n",
    "```\n",
    "if the dimention of m is not 2, of the axis is any of the last ones"
   ]
  },
  {
   "cell_type": "markdown",
   "metadata": {},
   "source": [
    "We use the methods to know the dimension of the array, and the function mean and std for the averages and standard deviations. for more info click on [ndim](https://docs.scipy.org/doc/numpy-1.14.0/reference/generated/numpy.ndarray.ndim.html) [mean](https://docs.scipy.org/doc/numpy-1.14.0/reference/generated/numpy.mean.html) and [std](https://docs.scipy.org/doc/numpy-1.12.0/reference/generated/numpy.std.html)"
   ]
  },
  {
   "cell_type": "code",
   "execution_count": null,
   "metadata": {},
   "outputs": [],
   "source": [
    "def means_stds(v, eje=\"columnas\"):\n",
    "    n = np.array([None,None]);\n",
    "    if(v.ndim == 2):\n",
    "        if str(eje) == \"filas\":\n",
    "            p = np.mean(v, axis=1)\n",
    "            d = np.std(v, axis=1)\n",
    "        elif str(eje) == \"columnas\":\n",
    "            p = np.mean(v, axis=0)\n",
    "            d = np.std(v, axis=0)\n",
    "        return p,d\n",
    "    return n;"
   ]
  },
  {
   "cell_type": "markdown",
   "metadata": {},
   "source": [
    "And prove the solution"
   ]
  },
  {
   "cell_type": "code",
   "execution_count": null,
   "metadata": {},
   "outputs": [],
   "source": [
    "A = np.array([[1,2,3],[3,4,5]])\n",
    "print (means_stds(A))"
   ]
  },
  {
   "cell_type": "code",
   "execution_count": null,
   "metadata": {},
   "outputs": [],
   "source": [
    "print (means_stds(A, eje=\"columnas\"))"
   ]
  },
  {
   "cell_type": "code",
   "execution_count": null,
   "metadata": {},
   "outputs": [],
   "source": [
    "print (means_stds(A, eje=\"filas\"))"
   ]
  },
  {
   "cell_type": "code",
   "execution_count": null,
   "metadata": {},
   "outputs": [],
   "source": [
    "V = np.array([1,2,3])\n",
    "print (means_stds(V))"
   ]
  },
  {
   "cell_type": "code",
   "execution_count": null,
   "metadata": {},
   "outputs": [],
   "source": [
    "M = np.random.random((2,2,2))\n",
    "print (means_stds(M))"
   ]
  }
 ],
 "metadata": {
  "kernelspec": {
   "display_name": "Python 3",
   "language": "python",
   "name": "python3"
  },
  "language_info": {
   "codemirror_mode": {
    "name": "ipython",
    "version": 3
   },
   "file_extension": ".py",
   "mimetype": "text/x-python",
   "name": "python",
   "nbconvert_exporter": "python",
   "pygments_lexer": "ipython3",
   "version": "3.6.5"
  }
 },
 "nbformat": 4,
 "nbformat_minor": 2
}
