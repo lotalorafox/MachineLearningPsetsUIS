{
 "cells": [
  {
   "cell_type": "markdown",
   "metadata": {},
   "source": [
    "# Problem set P02C\n",
    "import the packages"
   ]
  },
  {
   "cell_type": "code",
   "execution_count": 42,
   "metadata": {},
   "outputs": [],
   "source": [
    "from IPython.display import Image\n",
    "import sys\n",
    "import numpy as np\n",
    "sys.path.append(\"code\")\n",
    "from haar import *"
   ]
  },
  {
   "cell_type": "markdown",
   "metadata": {},
   "source": [
    "## Exercise 1 \n",
    "Define the haar caracteristics using the haar library"
   ]
  },
  {
   "cell_type": "code",
   "execution_count": 43,
   "metadata": {},
   "outputs": [],
   "source": [
    "haar_1 = [ {\"op\": \"add\", \"topleft_row_rel\": 0.0, \"topleft_col_rel\": 0.0, \"height_rel\": 0.5, \"width_rel\": 1.0},\n",
    "           {\"op\": \"sub\", \"topleft_row_rel\": 0.5, \"topleft_col_rel\": 0.0, \"height_rel\": 0.5, \"width_rel\": 1.0}]\n",
    "\n",
    "haar_2 = [{\"op\": \"add\", \"topleft_row_rel\": 0.0, \"topleft_col_rel\": 0.0, \"height_rel\": 1.0, \"width_rel\": 0.5},\n",
    "          {\"op\": \"sub\", \"topleft_row_rel\": 0.0, \"topleft_col_rel\": 0.5, \"height_rel\": 1.0, \"width_rel\": 0.5}]\n",
    "\n",
    "haar_3 = [ {\"op\": \"add\", \"topleft_row_rel\": 0.0,   \"topleft_col_rel\": 0.0, \"height_rel\": 0.3, \"width_rel\": 1.0},\n",
    "           {\"op\": \"add\", \"topleft_row_rel\": 0.7,   \"topleft_col_rel\": 0.0, \"height_rel\": 0.3, \"width_rel\": 1.0},\n",
    "           {\"op\": \"sub\", \"topleft_row_rel\": 0.3,   \"topleft_col_rel\": 0.0, \"height_rel\": 0.4, \"width_rel\": 1.0}]\n",
    "\n",
    "haar_4 = [ {\"op\": \"add\", \"topleft_row_rel\": 0.0,   \"topleft_col_rel\": 0.0, \"height_rel\": 1.0, \"width_rel\": 0.3},\n",
    "           {\"op\": \"add\", \"topleft_row_rel\": 0.0,   \"topleft_col_rel\": 0.7, \"height_rel\": 1.0, \"width_rel\": 0.3},\n",
    "           {\"op\": \"sub\", \"topleft_row_rel\": 0.0,   \"topleft_col_rel\": 0.3, \"height_rel\": 1.0, \"width_rel\": 0.4}]\n",
    "\n",
    "haar_5 = [ {\"op\": \"add\", \"topleft_row_rel\": 0.0,   \"topleft_col_rel\": 0.0, \"height_rel\": 0.5, \"width_rel\": 0.5},\n",
    "           {\"op\": \"add\", \"topleft_row_rel\": 0.5,   \"topleft_col_rel\": 0.5, \"height_rel\": 0.5, \"width_rel\": 0.5},\n",
    "           {\"op\": \"sub\", \"topleft_row_rel\": 0.0,   \"topleft_col_rel\": 0.5, \"height_rel\": 0.5, \"width_rel\": 0.5},\n",
    "           {\"op\": \"sub\", \"topleft_row_rel\": 0.5,   \"topleft_col_rel\": 0.0, \"height_rel\": 0.5, \"width_rel\": 0.5}]\n",
    "\n",
    "haar_features = [haar_1, haar_2, haar_3, haar_4, haar_5 ]"
   ]
  },
  {
   "cell_type": "code",
   "execution_count": 44,
   "metadata": {},
   "outputs": [],
   "source": [
    "M = create_sample_matrix(10)"
   ]
  },
  {
   "cell_type": "code",
   "execution_count": 45,
   "metadata": {},
   "outputs": [
    {
     "data": {
      "image/png": "[encoded data removed]",
      "text/plain": [
       "<Figure size 864x360 with 5 Axes>"
      ]
     },
     "metadata": {},
     "output_type": "display_data"
    }
   ],
   "source": [
    "#Dont work???\n",
    "show_haar_features(haar_features)"
   ]
  },
  {
   "cell_type": "code",
   "execution_count": 46,
   "metadata": {},
   "outputs": [
    {
     "name": "stdout",
     "output_type": "stream",
     "text": [
      "[[ 1  1  1  1  1  1  1  1  1  1]\n",
      " [ 2  2  2  2  2  2  2  2  2  2]\n",
      " [ 3  3  3  3  3  3  3  3  3  3]\n",
      " [ 4  4  4  4  4  4  4  4  4  4]\n",
      " [ 5  7  5  5  5  5  5  5  5  5]\n",
      " [ 6  6  6  6  6  6  6  6  6  6]\n",
      " [ 7  7  7  7  7  7  7  7  7  7]\n",
      " [ 8  8  8  8  8  8  8  8  8  8]\n",
      " [ 9  9  9  9  9  9  9  9  9  9]\n",
      " [10 10 10 10 10 10 10 10 10 10]]\n",
      "-248\n",
      "2\n",
      "108\n",
      "112\n",
      "2\n"
     ]
    }
   ],
   "source": [
    "print (M)\n",
    "print (extract_haar(haar_1, M))\n",
    "print (extract_haar(haar_2, M))\n",
    "print (extract_haar(haar_3, M))\n",
    "print (extract_haar(haar_4, M))\n",
    "print (extract_haar(haar_5, M))"
   ]
  },
  {
   "cell_type": "markdown",
   "metadata": {},
   "source": [
    "## Exercise 2\n",
    "Do a funton to get the sum of the submatrix of a integral matrix"
   ]
  },
  {
   "cell_type": "code",
   "execution_count": 47,
   "metadata": {},
   "outputs": [],
   "source": [
    "def get_submatrix_sum_using_integral(image, integral, topleft_row, topleft_col, height, width):\n",
    "    a = integral[topleft_row-1,topleft_col-1] if topleft_row-1 >=0 and topleft_col-1>=0 else 0\n",
    "    b = integral[topleft_row-1,topleft_col+width-1] if topleft_row-1>=0 and topleft_col+width-1>=0 else 0\n",
    "    c = integral[topleft_row+height-1,topleft_col+width-1] if topleft_row+height-1>=0 and topleft_col+width-1>=0 else 0\n",
    "    d = integral[topleft_row+height-1,topleft_col-1] if topleft_row+height-1>=0 and topleft_col-1>=0 else 0\n",
    "    result = a+c-b-d\n",
    "    return result"
   ]
  },
  {
   "cell_type": "markdown",
   "metadata": {},
   "source": [
    "and prove the funtion"
   ]
  },
  {
   "cell_type": "code",
   "execution_count": 48,
   "metadata": {},
   "outputs": [
    {
     "name": "stdout",
     "output_type": "stream",
     "text": [
      "[[ 1  1  1  1  1  1  1  1  1  1]\n",
      " [ 2  2  2  2  2  2  2  2  2  2]\n",
      " [ 3  3  3  3  3  3  3  3  3  3]\n",
      " [ 4  4  4  4  4  4  4  4  4  4]\n",
      " [ 5  7  5  5  5  5  5  5  5  5]\n",
      " [ 6  6  6  6  6  6  6  6  6  6]\n",
      " [ 7  7  7  7  7  7  7  7  7  7]\n",
      " [ 8  8  8  8  8  8  8  8  8  8]\n",
      " [ 9  9  9  9  9  9  9  9  9  9]\n",
      " [10 10 10 10 10 10 10 10 10 10]]\n",
      "[[  1   2   3   4   5   6   7   8   9  10]\n",
      " [  3   6   9  12  15  18  21  24  27  30]\n",
      " [  6  12  18  24  30  36  42  48  54  60]\n",
      " [ 10  20  30  40  50  60  70  80  90 100]\n",
      " [ 15  32  47  62  77  92 107 122 137 152]\n",
      " [ 21  44  65  86 107 128 149 170 191 212]\n",
      " [ 28  58  86 114 142 170 198 226 254 282]\n",
      " [ 36  74 110 146 182 218 254 290 326 362]\n",
      " [ 45  92 137 182 227 272 317 362 407 452]\n",
      " [ 55 112 167 222 277 332 387 442 497 552]]\n",
      "84\n",
      "84\n",
      "3\n",
      "3\n",
      "42\n",
      "42\n",
      "6\n",
      "6\n",
      "-248\n",
      "-248\n"
     ]
    }
   ],
   "source": [
    "M = create_sample_matrix(10)\n",
    "Mi = get_integral(M)\n",
    "print (M)\n",
    "print (Mi)\n",
    "\n",
    "print (get_submatrix_sum_using_integral(M, Mi, 1,2,4,6))\n",
    "print (np.sum(M[1:5,2:8]))\n",
    "print (get_submatrix_sum_using_integral(M, Mi, 0,4,1,3))\n",
    "print (np.sum(M[0:1,4:7]))\n",
    "print (get_submatrix_sum_using_integral(M, Mi, 1,6,4,3))\n",
    "print (np.sum(M[1:5,6:9]))\n",
    "print (get_submatrix_sum_using_integral(M, Mi, 0,0,3,1))\n",
    "print (np.sum(M[0:3,0:1]))\n",
    "\n",
    "print (extract_haar(haar_1, M, M))\n",
    "print (extract_haar(haar_1, M, Mi, submatrix_sum_function=get_submatrix_sum_using_integral))"
   ]
  },
  {
   "cell_type": "markdown",
   "metadata": {},
   "source": [
    "We look how is mush faster"
   ]
  },
  {
   "cell_type": "code",
   "execution_count": 49,
   "metadata": {},
   "outputs": [
    {
     "name": "stdout",
     "output_type": "stream",
     "text": [
      "150 µs ± 3.71 µs per loop (mean ± std. dev. of 7 runs, 10000 loops each)\n",
      "23 µs ± 1.49 µs per loop (mean ± std. dev. of 7 runs, 10000 loops each)\n"
     ]
    }
   ],
   "source": [
    "M = create_sample_matrix(300)\n",
    "Mi = get_integral(M)\n",
    "%timeit extract_haar(haar_1, M, Mi)\n",
    "%timeit extract_haar(haar_1, M, Mi, submatrix_sum_function=get_submatrix_sum_using_integral)"
   ]
  },
  {
   "cell_type": "markdown",
   "metadata": {},
   "source": [
    "## Exercise 3 \n",
    "Make a function that return a matrix in each row have the haar caracteristics of the digit of the original matrix"
   ]
  },
  {
   "cell_type": "code",
   "execution_count": 50,
   "metadata": {},
   "outputs": [],
   "source": [
    "def make_haar_dataset_for_MNIST(haar_features, d, N):\n",
    "    M  = d[0].reshape(28,28)\n",
    "    Mi = get_integral(M)\n",
    "    num_feats = len(get_haar_features(haar_features, M, Mi, nb_scales=N, nb_shifts=N))\n",
    "    print (\"number of haar features\", num_feats)\n",
    "    d_haar = np.zeros((d.shape[0], num_feats))\n",
    "    for i in range(d.shape[0]):\n",
    "        if i%(d.shape[0]/20)==0:\n",
    "            print (\"{0:2.0f}% completed\".format(i*1./d.shape[0] * 100))\n",
    "            \n",
    "        M  = d[i].reshape(28,28)\n",
    "        Mi = get_integral(M)\n",
    "        res = get_haar_features(haar_features, M, Mi, nb_scales=N, nb_shifts=N)\n",
    "        d_haar[i] = res             \n",
    "    return d_haar"
   ]
  },
  {
   "cell_type": "markdown",
   "metadata": {},
   "source": [
    "Charge the data "
   ]
  },
  {
   "cell_type": "code",
   "execution_count": 51,
   "metadata": {},
   "outputs": [],
   "source": [
    "mnist = np.loadtxt(\"data.csv\", delimiter=\",\")\n",
    "d=mnist[:,1:785]\n",
    "c=mnist[:,0]"
   ]
  },
  {
   "cell_type": "markdown",
   "metadata": {},
   "source": [
    "And prove the code"
   ]
  },
  {
   "cell_type": "code",
   "execution_count": 52,
   "metadata": {},
   "outputs": [
    {
     "name": "stdout",
     "output_type": "stream",
     "text": [
      "number of haar features 200\n",
      " 0% completed\n",
      " 5% completed\n",
      "10% completed\n",
      "15% completed\n",
      "20% completed\n",
      "25% completed\n",
      "30% completed\n",
      "35% completed\n",
      "40% completed\n",
      "45% completed\n",
      "50% completed\n",
      "55% completed\n",
      "60% completed\n",
      "65% completed\n",
      "70% completed\n",
      "75% completed\n",
      "80% completed\n",
      "85% completed\n",
      "90% completed\n",
      "95% completed\n",
      "haar dataset size (1500, 200)\n",
      "checksum -473660366.0\n"
     ]
    }
   ],
   "source": [
    "haar_features = [ haar_1, haar_2 ]\n",
    "d_haar = make_haar_dataset_for_MNIST(haar_features, d, 6)\n",
    "print (\"haar dataset size\", d_haar.shape)\n",
    "print (\"checksum\", np.sum(d_haar))"
   ]
  },
  {
   "cell_type": "markdown",
   "metadata": {},
   "source": [
    "## End\n",
    "### Thanks"
   ]
  }
 ],
 "metadata": {
  "kernelspec": {
   "display_name": "Python 3",
   "language": "python",
   "name": "python3"
  },
  "language_info": {
   "codemirror_mode": {
    "name": "ipython",
    "version": 3
   },
   "file_extension": ".py",
   "mimetype": "text/x-python",
   "name": "python",
   "nbconvert_exporter": "python",
   "pygments_lexer": "ipython3",
   "version": "3.6.5"
  }
 },
 "nbformat": 4,
 "nbformat_minor": 2
}
