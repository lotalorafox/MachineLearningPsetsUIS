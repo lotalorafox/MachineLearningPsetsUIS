{
 "cells": [
  {
   "cell_type": "markdown",
   "metadata": {},
   "source": [
    "# Problem Set 02A\n",
    "Import the libraries to this exercise"
   ]
  },
  {
   "cell_type": "code",
   "execution_count": 1,
   "metadata": {},
   "outputs": [],
   "source": [
    "import numpy as np\n",
    "from skimage import io\n",
    "import matplotlib.pyplot as plt"
   ]
  },
  {
   "cell_type": "markdown",
   "metadata": {},
   "source": [
    "## Exercise 1, Convolution\n",
    "Complete the function `convolution` to with a matrix $A \\in \\mathbb{R}^{m_1\\times n_1}$ and a filter $f \\in \\mathbb{R}^{m_2 \\times n_2}$ return a matrix $C \\in \\mathbb{R}^{m \\times n}$ con $m=m_1 - m_2 + 1$ y $n = n_1 - n_2 + 1$\n",
    "so that $$ C_j = \\sum_i p_i f_i $$"
   ]
  },
  {
   "cell_type": "markdown",
   "metadata": {},
   "source": [
    "We define our function using the methods [shape](https://docs.scipy.org/doc/numpy-1.14.0/reference/generated/numpy.ndarray.shape.html), [ones](https://docs.scipy.org/doc/numpy-1.14.0/reference/generated/numpy.ones.html) and sum of numpy, as show below"
   ]
  },
  {
   "cell_type": "code",
   "execution_count": 2,
   "metadata": {},
   "outputs": [],
   "source": [
    "def convolution(A, f):\n",
    "    rows = A.shape[0]-f.shape[0]+1\n",
    "    cols = A.shape[1]-f.shape[1]+1\n",
    "    r = np.ones((rows,cols))\n",
    "    if rows<=0 or cols<=0:\n",
    "        raise ValueError(\"filter must be smaller than matrix\")\n",
    "    for i in range(rows):\n",
    "        for j in range(cols):\n",
    "            sub = A[i:i+f.shape[0],j:j+f.shape[1]]\n",
    "            v = sub*f\n",
    "            r[i,j]=r[i,j]*np.sum(v)\n",
    "    result = r\n",
    "    return result"
   ]
  },
  {
   "cell_type": "markdown",
   "metadata": {},
   "source": [
    "And we prove the solution"
   ]
  },
  {
   "cell_type": "code",
   "execution_count": null,
   "metadata": {},
   "outputs": [],
   "source": [
    "A = np.array([[1,2,1,2,1,2],[2,3,2,3,2,3],[4,3,4,3,4,3],[6,4,6,4,6,4],[7,5,7,5,7,5]])\n",
    "f = np.array([[2,2,2],[2,2,2]])\n",
    "print (convolution(A,f))"
   ]
  },
  {
   "cell_type": "markdown",
   "metadata": {},
   "source": [
    "## Exercise 2, Convolution of absolute differences of matrices\n",
    "Create a function similar to the previous one but where the process be the next \n",
    "$$ C_j = \\sum_i abs(p_i - f_i)$$"
   ]
  },
  {
   "cell_type": "markdown",
   "metadata": {},
   "source": [
    "We create a similar funtion to the last one but wue change the operation inside the cycles for a differences absolutes between the elements "
   ]
  },
  {
   "cell_type": "code",
   "execution_count": 3,
   "metadata": {},
   "outputs": [],
   "source": [
    "def convolution_sad(A, f):\n",
    "    rows = A.shape[0]-f.shape[0]+1\n",
    "    cols = A.shape[1]-f.shape[1]+1\n",
    "    r = np.ones((rows, cols))\n",
    "    if rows <= 0 or cols <= 0:\n",
    "        raise ValueError(\"filter must be smaller than matrix\")\n",
    "    for i in range(rows):\n",
    "        for j in range(cols):\n",
    "            sub = A[i:i+f.shape[0], j:j+f.shape[1]]\n",
    "            v = abs(sub-f)\n",
    "            r[i, j] = r[i, j]*abs(np.sum(v))\n",
    "    result = r\n",
    "    return result"
   ]
  },
  {
   "cell_type": "markdown",
   "metadata": {},
   "source": [
    "Now we prove the solution"
   ]
  },
  {
   "cell_type": "code",
   "execution_count": null,
   "metadata": {},
   "outputs": [],
   "source": [
    "A = np.array([[1,2,1,2,1,2],[2,3,2,3,2,3],[4,3,4,3,4,3],[6,4,6,4,6,4],[7,5,7,5,7,5]])\n",
    "f = np.array([[2,2,2],[2,2,2]])\n",
    "print (convolution_sad(A,f))"
   ]
  },
  {
   "cell_type": "markdown",
   "metadata": {},
   "source": [
    "## Exercise 3, Minimum SAD index\n",
    "If We use the last function in a matrix and a filter with the same number of rows, this one return a vector. Now create a function that return the index of the item with the lowest value."
   ]
  },
  {
   "cell_type": "markdown",
   "metadata": {},
   "source": [
    "For this funtion we use the function [min](https://docs.scipy.org/doc/numpy-1.14.0/reference/generated/numpy.ndarray.min.html) and [argmin](https://docs.scipy.org/doc/numpy-1.14.0/reference/generated/numpy.argmin.html) of the numpy library "
   ]
  },
  {
   "cell_type": "code",
   "execution_count": 7,
   "metadata": {},
   "outputs": [],
   "source": [
    "def min_sad(A, f):\n",
    "    c = convolution_sad(A, f)\n",
    "    if(A.shape[0] == f.shape[0]):\n",
    "        return np.argmin(c)\n",
    "    return np.min(c)"
   ]
  },
  {
   "cell_type": "markdown",
   "metadata": {},
   "source": [
    "And prove the solution"
   ]
  },
  {
   "cell_type": "code",
   "execution_count": 8,
   "metadata": {},
   "outputs": [
    {
     "name": "stdout",
     "output_type": "stream",
     "text": [
      "2\n",
      "3\n"
     ]
    }
   ],
   "source": [
    "A = np.array([[5,12,1,2,4,6],[6, 5,2,3,2,1]])\n",
    "f = np.array([[2,2],[2,2]])\n",
    "print (min_sad(A,f))\n",
    "A = np.array([[5,11,13,2,4,6],[6,5,2,3,2,11], [6,5,2,3,1,11]])\n",
    "f = np.array([[2,2],[2,2], [0,1]])\n",
    "print (min_sad(A,f))"
   ]
  },
  {
   "cell_type": "markdown",
   "metadata": {},
   "source": [
    "## Exercise 4, Index to the minimum SAD between matrices\n",
    "With two matrix A and B create a function to:\n",
    "* Get a submatrix of A of the size k x k with the upper left element is in the c column and the r row of A\n",
    "* Do the convolution beetween the previous matrix and the band of B from the r row and the r+k row of B\n",
    "* get the index of the previous vector with the lowest SAD."
   ]
  },
  {
   "cell_type": "markdown",
   "metadata": {},
   "source": [
    "We use the funtion used on the exercise 2 and the function argmin that we see previously"
   ]
  },
  {
   "cell_type": "code",
   "execution_count": 9,
   "metadata": {},
   "outputs": [],
   "source": [
    "def index_min_sad_in_band(A,B,k,r,c):\n",
    "    p = A[r:r+k,c:c+k]\n",
    "    h = B[r:r+k,:]\n",
    "    c = convolution_sad(h,p)\n",
    "    return np.argmin(c)"
   ]
  },
  {
   "cell_type": "markdown",
   "metadata": {},
   "source": [
    "and now we prove the solution "
   ]
  },
  {
   "cell_type": "code",
   "execution_count": 10,
   "metadata": {},
   "outputs": [
    {
     "name": "stdout",
     "output_type": "stream",
     "text": [
      "[[1 2 1 2 1 2]\n",
      " [2 3 1 3 2 3]\n",
      " [4 3 4 3 4 3]\n",
      " [6 4 6 4 1 4]\n",
      " [7 5 2 5 7 5]]\n",
      "[[ 1  4  1  4  1  4]\n",
      " [ 4  9  1  9  4  9]\n",
      " [16  9 16  9 16  9]\n",
      " [36 16 36 16  1 16]\n",
      " [49 25  4 25 49 25]]\n",
      "[[6 5 6 5 6 5]\n",
      " [5 4 6 4 5 4]\n",
      " [3 4 3 4 3 4]\n",
      " [1 3 1 3 6 3]\n",
      " [0 2 5 2 0 2]]\n",
      "3\n",
      "1\n"
     ]
    }
   ],
   "source": [
    "A = np.array([[1,2,1,2,1,2],[2,3,1,3,2,3],[4,3,4,3,4,3],[6,4,6,4,1,4],[7,5,2,5,7,5]])\n",
    "B1 = A**2\n",
    "B2 = 7-A\n",
    "print (A)\n",
    "print (B1)\n",
    "print (B2)\n",
    "print (index_min_sad_in_band(A,B1,2,2,3))\n",
    "print (index_min_sad_in_band(A,B2,2,2,3))"
   ]
  },
  {
   "cell_type": "markdown",
   "metadata": {},
   "source": [
    "## Exercise 5, Minimum SAD between images\n",
    "With two matrix of the same size A and B $\\in \\mathbb{R}^{m\\times n}$ create a function that create a new matrix C \n",
    "where:\n",
    "\n",
    "    C[r,c] = np.abs(index_min_sad_in_band(A,B,k,r,c) - c)"
   ]
  },
  {
   "cell_type": "code",
   "execution_count": 11,
   "metadata": {},
   "outputs": [],
   "source": [
    "def min_sad_matrix (A, B, k):\n",
    "    cols = A.shape[1]-k+1\n",
    "    rows = A.shape[0]-k+1\n",
    "    r = np.zeros((rows, cols))\n",
    "    for i in range(rows):\n",
    "        for j in range(cols):\n",
    "            r[i, j] = np.abs(index_min_sad_in_band(A, B, k, i, j) - j)\n",
    "    return r"
   ]
  },
  {
   "cell_type": "markdown",
   "metadata": {},
   "source": [
    "We prove the solution"
   ]
  },
  {
   "cell_type": "code",
   "execution_count": 13,
   "metadata": {},
   "outputs": [
    {
     "name": "stdout",
     "output_type": "stream",
     "text": [
      "[[2. 0. 0. 2. 2.]\n",
      " [2. 0. 0. 2. 2.]\n",
      " [3. 3. 1. 0. 0.]\n",
      " [1. 0. 0. 1. 3.]]\n",
      "[[0. 1. 2. 3. 4.]\n",
      " [3. 1. 1. 3. 1.]\n",
      " [4. 2. 2. 2. 4.]\n",
      " [1. 1. 1. 2. 2.]]\n"
     ]
    }
   ],
   "source": [
    "A = np.array([[1,2,1,2,1,2],[2,3,1,3,2,3],[4,3,4,3,4,3],[6,4,6,4,1,4],[7,5,2,5,7,5]])\n",
    "B1 = A**2\n",
    "B2 = 7-A\n",
    "print (min_sad_matrix(A,B1,2))\n",
    "print (min_sad_matrix(A,B2,2))"
   ]
  },
  {
   "cell_type": "markdown",
   "metadata": {},
   "source": [
    "## Deep maps\n",
    "We can create a deep map of a image as we show next"
   ]
  },
  {
   "cell_type": "code",
   "execution_count": 20,
   "metadata": {},
   "outputs": [],
   "source": [
    "def main(a,b):\n",
    "    #original images\n",
    "    img_l = io.imread(a)\n",
    "    img_r = io.imread(b)\n",
    "    img_l = np.mean(img_l, axis=2)\n",
    "    img_r = np.mean(img_r, axis=2)\n",
    "    fig=plt.figure(figsize=(10,20))\n",
    "    fig.add_subplot(121)\n",
    "    plt.imshow(img_l, cmap = plt.cm.Greys_r)\n",
    "    fig.add_subplot(122)\n",
    "    plt.imshow(img_r, cmap = plt.cm.Greys_r)\n",
    "    \n",
    "    #result\n",
    "    r = min_sad_matrix(img_l, img_r, 10)\n",
    "    w = np.copy(r)\n",
    "    w[w>20]=0\n",
    "    fig2=plt.figure(figsize=(10,3))\n",
    "    fig2.add_subplot(121)\n",
    "    plt.imshow(r, cmap = plt.cm.Greys_r)\n",
    "    fig2.add_subplot(122)\n",
    "    plt.imshow(w, cmap = plt.cm.Greys_r)"
   ]
  },
  {
   "cell_type": "code",
   "execution_count": 21,
   "metadata": {},
   "outputs": [
    {
     "data": {
      "image/png": "[encoded data removed]",
      "text/plain": [
       "<Figure size 720x1440 with 2 Axes>"
      ]
     },
     "metadata": {},
     "output_type": "display_data"
    },
    {
     "data": {
      "image/png": "[encoded data removed]",
      "text/plain": [
       "<Figure size 720x216 with 2 Axes>"
      ]
     },
     "metadata": {},
     "output_type": "display_data"
    }
   ],
   "source": [
    "main(\"leaf-blue.png\",\"leaf-blue.png\")"
   ]
  },
  {
   "cell_type": "code",
   "execution_count": null,
   "metadata": {},
   "outputs": [],
   "source": [
    "main(\"office_l.png\",\"office_r.png\")"
   ]
  },
  {
   "cell_type": "markdown",
   "metadata": {},
   "source": [
    "## End\n",
    "### Thanks"
   ]
  }
 ],
 "metadata": {
  "kernelspec": {
   "display_name": "Python 3",
   "language": "python",
   "name": "python3"
  },
  "language_info": {
   "codemirror_mode": {
    "name": "ipython",
    "version": 3
   },
   "file_extension": ".py",
   "mimetype": "text/x-python",
   "name": "python",
   "nbconvert_exporter": "python",
   "pygments_lexer": "ipython3",
   "version": "3.6.5"
  }
 },
 "nbformat": 4,
 "nbformat_minor": 2
}
