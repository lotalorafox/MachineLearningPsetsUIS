{
 "cells": [
  {
   "cell_type": "markdown",
   "metadata": {},
   "source": [
    "# Problem Set 02A\n",
    "Import the libraries to this exercise"
   ]
  },
  {
   "cell_type": "code",
   "execution_count": null,
   "metadata": {},
   "outputs": [],
   "source": [
    "import numpy as np\n",
    "from skimage import io\n",
    "import matplotlib.pyplot as plt"
   ]
  },
  {
   "cell_type": "markdown",
   "metadata": {},
   "source": [
    "## Exercise 1, Concolution\n",
    "Complete the function `convolution` to with a matrix $A \\in \\mathbb{R}^{m_1\\times n_1}$ and a filter $f \\in \\mathbb{R}^{m_2 \\times n_2}$ return a matrix $C \\in \\mathbb{R}^{m \\times n}$ con $m=m_1 - m_2 + 1$ y $n = n_1 - n_2 + 1$\n",
    "so that $$ C_j = \\sum_i p_i f_i $$"
   ]
  },
  {
   "cell_type": "markdown",
   "metadata": {},
   "source": [
    "We define our function using the methods [shape](https://docs.scipy.org/doc/numpy-1.14.0/reference/generated/numpy.ndarray.shape.html), [ones](https://docs.scipy.org/doc/numpy-1.14.0/reference/generated/numpy.ones.html) and sum of numpy, as show below"
   ]
  },
  {
   "cell_type": "code",
   "execution_count": null,
   "metadata": {},
   "outputs": [],
   "source": [
    "def convolution(A, f):\n",
    "    rows = A.shape[0]-f.shape[0]+1\n",
    "    cols = A.shape[1]-f.shape[1]+1\n",
    "    r = np.ones((rows,cols))\n",
    "    if rows<=0 or cols<=0:\n",
    "        raise ValueError(\"filter must be smaller than matrix\")\n",
    "    for i in range(rows):\n",
    "        for j in range(cols):\n",
    "            sub = A[i:i+f.shape[0],j:j+f.shape[1]]\n",
    "            v = sub*f\n",
    "            r[i,j]=r[i,j]*np.sum(v)\n",
    "    result = r\n",
    "    return result"
   ]
  },
  {
   "cell_type": "markdown",
   "metadata": {},
   "source": [
    "And we prove the solution"
   ]
  },
  {
   "cell_type": "code",
   "execution_count": null,
   "metadata": {},
   "outputs": [],
   "source": [
    "A = np.array([[1,2,1,2,1,2],[2,3,2,3,2,3],[4,3,4,3,4,3],[6,4,6,4,6,4],[7,5,7,5,7,5]])\n",
    "f = np.array([[2,2,2],[2,2,2]])\n",
    "print (convolution(A,f))"
   ]
  },
  {
   "cell_type": "markdown",
   "metadata": {},
   "source": [
    "## Exercise 2, Convolution of absolute differences of matrices\n",
    "Create a function similar to the previous one but where the process be the next \n",
    "$$ C_j = \\sum_i abs(p_i - f_i)$$"
   ]
  },
  {
   "cell_type": "markdown",
   "metadata": {},
   "source": [
    "We create a similar funtion to the last one but wue change the operation inside the cycles for a differences absolutes between the elements "
   ]
  },
  {
   "cell_type": "code",
   "execution_count": null,
   "metadata": {},
   "outputs": [],
   "source": [
    "def convolution_sad(A, f):\n",
    "    rows = A.shape[0]-f.shape[0]+1\n",
    "    cols = A.shape[1]-f.shape[1]+1\n",
    "    r = np.ones((rows, cols))\n",
    "    if rows <= 0 or cols <= 0:\n",
    "        raise ValueError(\"filter must be smaller than matrix\")\n",
    "    for i in range(rows):\n",
    "        for j in range(cols):\n",
    "            sub = A[i:i+f.shape[0], j:j+f.shape[1]]\n",
    "            v = abs(sub-f)\n",
    "            r[i, j] = r[i, j]*abs(np.sum(v))\n",
    "    result = r\n",
    "    return result"
   ]
  },
  {
   "cell_type": "markdown",
   "metadata": {},
   "source": [
    "Now we prove the solution"
   ]
  },
  {
   "cell_type": "code",
   "execution_count": null,
   "metadata": {},
   "outputs": [],
   "source": [
    "A = np.array([[1,2,1,2,1,2],[2,3,2,3,2,3],[4,3,4,3,4,3],[6,4,6,4,6,4],[7,5,7,5,7,5]])\n",
    "f = np.array([[2,2,2],[2,2,2]])\n",
    "print (convolution_sad(A,f))"
   ]
  },
  {
   "cell_type": "markdown",
   "metadata": {},
   "source": [
    "## Exercise 3, Minimum SAD index\n",
    "If We use the last function in a matrix and a filter with the same number of rows, this one return a vector. Now create a function that return the index of the item with the lowest value."
   ]
  },
  {
   "cell_type": "markdown",
   "metadata": {},
   "source": [
    "For this funtion we use the function [min](https://docs.scipy.org/doc/numpy-1.14.0/reference/generated/numpy.ndarray.min.html) and [argmin](https://docs.scipy.org/doc/numpy-1.14.0/reference/generated/numpy.argmin.html) of the numpy library "
   ]
  },
  {
   "cell_type": "code",
   "execution_count": null,
   "metadata": {},
   "outputs": [],
   "source": [
    "def min_sad(A, f):\n",
    "    c = convolution_sad(A, f)\n",
    "    if(A.shape[0] == f.shape[0]):\n",
    "        return np.argmin(c)\n",
    "    return np.min(c)"
   ]
  },
  {
   "cell_type": "code",
   "execution_count": null,
   "metadata": {},
   "outputs": [],
   "source": [
    "And prove the solution"
   ]
  },
  {
   "cell_type": "code",
   "execution_count": null,
   "metadata": {},
   "outputs": [],
   "source": [
    "A = np.array([[5,12,1,2,4,6],[6, 5,2,3,2,1]])\n",
    "f = np.array([[2,2],[2,2]])\n",
    "print (min_sad(A,f))\n",
    "A = np.array([[5,11,13,2,4,6],[6,5,2,3,2,11], [6,5,2,3,1,11]])\n",
    "f = np.array([[2,2],[2,2], [0,1]])\n",
    "print (min_sad(A,f))"
   ]
  }
 ],
 "metadata": {
  "kernelspec": {
   "display_name": "Python 3",
   "language": "python",
   "name": "python3"
  },
  "language_info": {
   "codemirror_mode": {
    "name": "ipython",
    "version": 3
   },
   "file_extension": ".py",
   "mimetype": "text/x-python",
   "name": "python",
   "nbconvert_exporter": "python",
   "pygments_lexer": "ipython3",
   "version": "3.6.5"
  }
 },
 "nbformat": 4,
 "nbformat_minor": 2
}
