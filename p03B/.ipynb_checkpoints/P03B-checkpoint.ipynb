{
 "cells": [
  {
   "cell_type": "markdown",
   "metadata": {},
   "source": [
    "# Problem set 03B\n",
    "import the libraries"
   ]
  },
  {
   "cell_type": "code",
   "execution_count": 1,
   "metadata": {},
   "outputs": [],
   "source": [
    "from math import *\n",
    "import matplotlib as plt\n",
    "from random import gauss\n",
    "import numpy as np\n",
    "import bisect\n",
    "from filter import *"
   ]
  },
  {
   "cell_type": "markdown",
   "metadata": {},
   "source": [
    "We create the class of the robot "
   ]
  },
  {
   "cell_type": "code",
   "execution_count": 2,
   "metadata": {},
   "outputs": [],
   "source": [
    "class RobotPosition:\n",
    "    def __init__(self, landmarks, world_size):\n",
    "        self.x = random.random() * world_size\n",
    "        self.y = random.random() * world_size\n",
    "        self.orientation = random.random() * 2.0 * pi\n",
    "        self.forward_noise = 0.0;\n",
    "        self.turn_noise    = 0.0;\n",
    "        self.sense_noise   = 1.0;\n",
    "        self.landmarks  = landmarks\n",
    "        self.world_size = world_size\n",
    "    \n",
    "    def set(self, new_x, new_y, new_orientation):\n",
    "        if new_x < 0 or new_x >= self.world_size:\n",
    "            raise (ValueError, 'X coordinate out of bound')\n",
    "        if new_y < 0 or new_y >= self.world_size:\n",
    "            raise (ValueError, 'Y coordinate out of bound')\n",
    "        if new_orientation < 0 or new_orientation >= 2 * pi:\n",
    "            raise (ValueError, 'Orientation must be in [0..2pi]')\n",
    "        self.x = float(new_x)\n",
    "        self.y = float(new_y)\n",
    "        self.orientation = float(new_orientation)\n",
    "    \n",
    "    \n",
    "    def set_noise(self, new_f_noise, new_t_noise, new_s_noise):\n",
    "        # makes it possible to change the noise parameters\n",
    "        # this is often useful in particle filters\n",
    "        self.forward_noise = float(new_f_noise);\n",
    "        self.turn_noise    = float(new_t_noise);\n",
    "        self.sense_noise   = float(new_s_noise);\n",
    "    \n",
    "    \n",
    "    def sense(self):\n",
    "        Z = []\n",
    "        for i in range(len(self.landmarks)):\n",
    "            dist = sqrt((self.x - self.landmarks[i][0]) ** 2 + (self.y - self.landmarks[i][1]) ** 2)\n",
    "            dist += gauss(0.0, self.sense_noise)\n",
    "            Z.append(dist)\n",
    "        return Z\n",
    "    \n",
    "    \n",
    "    def move(self, turn, forward):\n",
    "        if forward < 0:\n",
    "            raise (ValueError, 'Robot cant move backwards')       \n",
    "        \n",
    "        # turn, and add randomness to the turning command\n",
    "        orientation = (self.orientation + float(turn) + gauss(0.0, self.turn_noise)) % (2*pi)\n",
    "        \n",
    "        # move, and add randomness to the motion command\n",
    "        dist = float(forward) + gauss(0.0, self.forward_noise)\n",
    "        x = ( self.x + (cos(orientation) * dist) ) % self.world_size\n",
    "        y = ( self.y + (sin(orientation) * dist) ) % self.world_size\n",
    "        \n",
    "        # set particle\n",
    "        res = RobotPosition(self.landmarks, self.world_size)\n",
    "        res.set(x, y, orientation)\n",
    "        res.set_noise(self.forward_noise, self.turn_noise, self.sense_noise)\n",
    "        res.landmarks = self.landmarks\n",
    "        res.world_size = self.world_size\n",
    "        return res\n",
    "    \n",
    "    def __repr__(self):\n",
    "        return '[x=%.6s y=%.6s orient=%.6s]' % (str(self.x), str(self.y), str(self.orientation))"
   ]
  },
  {
   "cell_type": "markdown",
   "metadata": {},
   "source": [
    "and the instance of the class"
   ]
  },
  {
   "cell_type": "code",
   "execution_count": 3,
   "metadata": {},
   "outputs": [
    {
     "name": "stdout",
     "output_type": "stream",
     "text": [
      "[x=70 y=70 orient=3.2778]\n",
      "[71.68627791761014, 12.699999667030095, 53.7947119841666, 51.43930982609775]\n",
      "[69.60486291503238, 11.07420203716874, 51.05423741938846, 51.59433455966465]\n",
      "[71.96213150463763, 16.744615300733283, 50.451876982458074, 53.63716341803959]\n"
     ]
    }
   ],
   "source": [
    "lmarks  = [[20.0, 20.0], [80.0, 80.0], [20.0, 80.0], [80.0, 20.0]]\n",
    "wsize   = 100.0\n",
    "\n",
    "\n",
    "myrobot = RobotPosition(lmarks, wsize)\n",
    "myrobot.x, myrobot.y = 70,70\n",
    "myrobot.sense_noise  = 2.\n",
    "print (myrobot)\n",
    "print (myrobot.sense())\n",
    "print (myrobot.sense())\n",
    "print (myrobot.sense())"
   ]
  },
  {
   "cell_type": "markdown",
   "metadata": {},
   "source": [
    "## Exercise 1 Create a filter of particles"
   ]
  },
  {
   "cell_type": "markdown",
   "metadata": {},
   "source": [
    "create the functions"
   ]
  },
  {
   "cell_type": "code",
   "execution_count": 4,
   "metadata": {},
   "outputs": [],
   "source": [
    "def Gaussian(mu, sigma, x):\n",
    "    # calculates the probability of x for 1-dim Gaussian with mean mu and var. sigma\n",
    "    return np.exp(- ((mu - x) ** 2) / (sigma ** 2) / 2.0) / np.sqrt(2.0 * pi * (sigma ** 2))\n",
    "\n",
    "\n",
    "def measurement_prob(particle, measurement):\n",
    "\n",
    "    # calculates how likely a measurement should be\n",
    "    prob = 1.0;\n",
    "    particlepos = particle.sense()\n",
    "    sigma = np.std(measurement)\n",
    "    for i in range(len(particle.landmarks)):\n",
    "        pro_tem = Gaussian(particlepos[i],sigma,measurement[i]) \n",
    "        prob = prob*pro_tem\n",
    "    return prob"
   ]
  },
  {
   "cell_type": "markdown",
   "metadata": {},
   "source": [
    "and prove"
   ]
  },
  {
   "cell_type": "code",
   "execution_count": 5,
   "metadata": {},
   "outputs": [
    {
     "name": "stdout",
     "output_type": "stream",
     "text": [
      "[x=70 y=70 orient=2.7708]\n",
      "[x=70 y=70 orient=0.8043]\n",
      "9.792440470963604e-08\n",
      "[x=74.388 y=47.906 orient=6.1963] 2.7830195344783038e-08\n",
      "[x=5.6836 y=16.335 orient=1.0979] 1.5409961326888336e-13\n",
      "[x=15.601 y=56.904 orient=5.9665] 1.998094659137283e-10\n",
      "[x=32.392 y=65.508 orient=4.3606] 1.5377383275489333e-09\n",
      "[x=1.0044 y=17.850 orient=6.0126] 1.0315447418116062e-12\n",
      "[x=40.761 y=14.238 orient=4.5506] 3.496341756311891e-11\n",
      "[x=98.998 y=61.877 orient=6.2719] 1.9837929930367082e-08\n",
      "[x=57.295 y=36.798 orient=4.4917] 9.873747669668602e-09\n",
      "[x=70.489 y=86.974 orient=3.4414] 6.981992746157628e-08\n",
      "[x=47.716 y=87.625 orient=5.6547] 1.6863744216995563e-08\n"
     ]
    }
   ],
   "source": [
    "lmarks  = [[20.0, 20.0], [80.0, 80.0], [20.0, 80.0], [80.0, 20.0]]\n",
    "wsize   = 100.0\n",
    "\n",
    "myrobot = RobotPosition(lmarks, wsize)\n",
    "myrobot.x, myrobot.y = 70,70\n",
    "myrobot.sense_noise  = 5.\n",
    "measurement = myrobot.sense()\n",
    "print (myrobot)\n",
    "\n",
    "p = RobotPosition(lmarks, wsize)\n",
    "p.x, p.y = myrobot.x, myrobot.y\n",
    "p.sense_noise = myrobot.sense_noise\n",
    "print (p)\n",
    "print (measurement_prob(p,measurement))\n",
    "\n",
    "for i in range(10):\n",
    "    p = RobotPosition(lmarks, wsize)\n",
    "    p.sense_noise = myrobot.sense_noise\n",
    "    prob = measurement_prob(p,measurement)\n",
    "    print (p, prob)"
   ]
  },
  {
   "cell_type": "markdown",
   "metadata": {},
   "source": [
    "## Exercise 2"
   ]
  },
  {
   "cell_type": "markdown",
   "metadata": {},
   "source": [
    "Create a function to sort a list of weight by them selfs"
   ]
  },
  {
   "cell_type": "code",
   "execution_count": 6,
   "metadata": {},
   "outputs": [],
   "source": [
    "def weighted_sample(weight_list, n_samples=None):    \n",
    "    if n_samples is None:\n",
    "        n_samples=len(weight_list)\n",
    "    \n",
    "    proba = weight_list*n_samples\n",
    "    result = []\n",
    "    #print(proba)\n",
    "    # -- TU CODIGO AQUI ---\n",
    "    i=n_samples\n",
    "    while i>0:\n",
    "        a = random\n",
    "        j = a.randint(0,len(weight_list))\n",
    "        if proba[j] >0:\n",
    "            result.append(j)\n",
    "            proba[j]= proba[j]-1\n",
    "            i-=1\n",
    "    # -----\n",
    "    return result"
   ]
  },
  {
   "cell_type": "markdown",
   "metadata": {},
   "source": [
    "and prove"
   ]
  },
  {
   "cell_type": "code",
   "execution_count": 7,
   "metadata": {},
   "outputs": [
    {
     "name": "stdout",
     "output_type": "stream",
     "text": [
      "[0, 0, 1, 0, 0, 0, 1, 1, 0, 0, 1, 0, 0, 0, 0, 0, 0, 0, 0, 0]\n",
      "--\n",
      "idx freq\n",
      " 0  0.100\n",
      " 1  0.300\n",
      " 2  0.400\n",
      " 3  0.050\n",
      " 4  0.100\n",
      " 5  0.050\n"
     ]
    }
   ],
   "source": [
    "weights = np.array([0.8,0.2])\n",
    "print (weighted_sample(weights, n_samples=20))\n",
    "print (\"--\")\n",
    "\n",
    "weights = np.array([0.1,0.3,0.4,0.05,0.1,0.05])\n",
    "w = weighted_sample(weights, n_samples=10000)\n",
    "print (\"idx freq\")\n",
    "for i in np.unique(w):\n",
    "    print (\"%2d  %.3f\"%(i, np.sum(w==i)*1./len(w)))\n"
   ]
  },
  {
   "cell_type": "markdown",
   "metadata": {},
   "source": [
    "#### End \n",
    "##### Thanks"
   ]
  },
  {
   "cell_type": "code",
   "execution_count": null,
   "metadata": {},
   "outputs": [],
   "source": []
  }
 ],
 "metadata": {
  "kernelspec": {
   "display_name": "Python 3",
   "language": "python",
   "name": "python3"
  },
  "language_info": {
   "codemirror_mode": {
    "name": "ipython",
    "version": 3
   },
   "file_extension": ".py",
   "mimetype": "text/x-python",
   "name": "python",
   "nbconvert_exporter": "python",
   "pygments_lexer": "ipython3",
   "version": "3.6.5"
  }
 },
 "nbformat": 4,
 "nbformat_minor": 2
}
